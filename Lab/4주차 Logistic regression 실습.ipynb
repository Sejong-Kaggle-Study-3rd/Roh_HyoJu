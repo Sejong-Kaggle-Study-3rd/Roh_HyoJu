{
  "nbformat": 4,
  "nbformat_minor": 0,
  "metadata": {
    "colab": {
      "name": "4주차 실습.ipynb",
      "provenance": []
    },
    "kernelspec": {
      "name": "python3",
      "display_name": "Python 3"
    },
    "language_info": {
      "name": "python"
    }
  },
  "cells": [
    {
      "cell_type": "code",
      "metadata": {
        "id": "LL1KPRDQ6JUL"
      },
      "source": [
        "import seaborn as sns\n",
        "iris=sns.load_dataset('iris')\n",
        "\n",
        "X=iris.drop('species',axis=1)\n",
        "y=iris['species']\n",
        "\n",
        "#범주형으로 전환\n",
        "from sklearn.preprocessing import LabelEncoder\n",
        "classle=LabelEncoder()\n",
        "y=classle.fit_transform(iris['species'].values)"
      ],
      "execution_count": 2,
      "outputs": []
    },
    {
      "cell_type": "code",
      "metadata": {
        "id": "JiV0Ipqx7cZA"
      },
      "source": [
        "from sklearn.model_selection import train_test_split\n",
        "X_train, X_test, y_train, y_test = train_test_split(X, y, test_size=0.3, random_state=1, stratify=y)\n",
        "\n",
        "from sklearn.preprocessing import StandardScaler\n",
        "sc=StandardScaler()\n",
        "sc.fit(X_train)\n",
        "X_train_std=sc.transform(X_train)\n",
        "X_test_std=sc.transform(X_test)"
      ],
      "execution_count": 3,
      "outputs": []
    },
    {
      "cell_type": "code",
      "metadata": {
        "id": "b7z2ontE74qu"
      },
      "source": [
        "\n",
        "from sklearn.linear_model import LogisticRegression\n",
        "Logit=LogisticRegression(C=200, random_state=11)    # C = 1/λ(규제화 정도 조절), C값이 클수록 규제화 강도 줄어듦 디폴트: L2, Auto.  \n",
        "l_1=Logit.fit(X_train_std, y_train)\n",
        "y_train_pred=Logit.predict(X_train_std)\n",
        "y_test_pred=Logit.predict(X_test_std)"
      ],
      "execution_count": 5,
      "outputs": []
    },
    {
      "cell_type": "code",
      "metadata": {
        "colab": {
          "base_uri": "https://localhost:8080/"
        },
        "id": "qqnedFOn8VxJ",
        "outputId": "1b79b049-2b8f-40b4-8f99-ab89d8888cca"
      },
      "source": [
        "from sklearn.metrics import accuracy_score\n",
        "print(accuracy_score(y_train, y_train_pred))\n",
        "print(accuracy_score(y_test, y_test_pred))"
      ],
      "execution_count": 7,
      "outputs": [
        {
          "output_type": "stream",
          "text": [
            "0.9809523809523809\n",
            "1.0\n"
          ],
          "name": "stdout"
        }
      ]
    },
    {
      "cell_type": "code",
      "metadata": {
        "colab": {
          "base_uri": "https://localhost:8080/"
        },
        "id": "wpqJFaiM8nmB",
        "outputId": "86461741-a82d-4683-ce8e-a23676436c8e"
      },
      "source": [
        "Logit.score(X_train_std, y_train)"
      ],
      "execution_count": 8,
      "outputs": [
        {
          "output_type": "execute_result",
          "data": {
            "text/plain": [
              "0.9809523809523809"
            ]
          },
          "metadata": {
            "tags": []
          },
          "execution_count": 8
        }
      ]
    },
    {
      "cell_type": "markdown",
      "metadata": {
        "id": "X09cVbWg-wl-"
      },
      "source": [
        "\n",
        "\n",
        "---\n",
        "\n"
      ]
    },
    {
      "cell_type": "code",
      "metadata": {
        "colab": {
          "base_uri": "https://localhost:8080/",
          "height": 213
        },
        "id": "9Nxs0DIr-xyF",
        "outputId": "074b191f-8326-4ac0-e278-edd1bc036e4d"
      },
      "source": [
        "import pandas as pd\n",
        "import numpy as np\n",
        "\n",
        "# 데이터 불러오기. y값은 이미 범주형으로 되어있음.\n",
        "dat_wine=pd.read_csv('http://archive.ics.uci.edu/ml/machine-learning-databases/'\n",
        "                     'wine/wine.data',header=None)\n",
        "dat_wine.head()\n",
        "dat_wine.columns = ['class label', 'alchohol', 'malic acid', 'ash', \n",
        "                    'alcalinity of ash', 'magnesium', 'total phenols', \n",
        "                    'flavanoids', 'nonflavanoid phenols', \n",
        "                    'proanthocyanins', 'color intensity', 'hue', \n",
        "                    'OD208', 'proline']  # Column names\n",
        "print('class label:', np.unique(dat_wine['class label']))  # Class 출력\n",
        "dat_wine.head()"
      ],
      "execution_count": 9,
      "outputs": [
        {
          "output_type": "stream",
          "text": [
            "class label: [1 2 3]\n"
          ],
          "name": "stdout"
        },
        {
          "output_type": "execute_result",
          "data": {
            "text/html": [
              "<div>\n",
              "<style scoped>\n",
              "    .dataframe tbody tr th:only-of-type {\n",
              "        vertical-align: middle;\n",
              "    }\n",
              "\n",
              "    .dataframe tbody tr th {\n",
              "        vertical-align: top;\n",
              "    }\n",
              "\n",
              "    .dataframe thead th {\n",
              "        text-align: right;\n",
              "    }\n",
              "</style>\n",
              "<table border=\"1\" class=\"dataframe\">\n",
              "  <thead>\n",
              "    <tr style=\"text-align: right;\">\n",
              "      <th></th>\n",
              "      <th>class label</th>\n",
              "      <th>alchohol</th>\n",
              "      <th>malic acid</th>\n",
              "      <th>ash</th>\n",
              "      <th>alcalinity of ash</th>\n",
              "      <th>magnesium</th>\n",
              "      <th>total phenols</th>\n",
              "      <th>flavanoids</th>\n",
              "      <th>nonflavanoid phenols</th>\n",
              "      <th>proanthocyanins</th>\n",
              "      <th>color intensity</th>\n",
              "      <th>hue</th>\n",
              "      <th>OD208</th>\n",
              "      <th>proline</th>\n",
              "    </tr>\n",
              "  </thead>\n",
              "  <tbody>\n",
              "    <tr>\n",
              "      <th>0</th>\n",
              "      <td>1</td>\n",
              "      <td>14.23</td>\n",
              "      <td>1.71</td>\n",
              "      <td>2.43</td>\n",
              "      <td>15.6</td>\n",
              "      <td>127</td>\n",
              "      <td>2.80</td>\n",
              "      <td>3.06</td>\n",
              "      <td>0.28</td>\n",
              "      <td>2.29</td>\n",
              "      <td>5.64</td>\n",
              "      <td>1.04</td>\n",
              "      <td>3.92</td>\n",
              "      <td>1065</td>\n",
              "    </tr>\n",
              "    <tr>\n",
              "      <th>1</th>\n",
              "      <td>1</td>\n",
              "      <td>13.20</td>\n",
              "      <td>1.78</td>\n",
              "      <td>2.14</td>\n",
              "      <td>11.2</td>\n",
              "      <td>100</td>\n",
              "      <td>2.65</td>\n",
              "      <td>2.76</td>\n",
              "      <td>0.26</td>\n",
              "      <td>1.28</td>\n",
              "      <td>4.38</td>\n",
              "      <td>1.05</td>\n",
              "      <td>3.40</td>\n",
              "      <td>1050</td>\n",
              "    </tr>\n",
              "    <tr>\n",
              "      <th>2</th>\n",
              "      <td>1</td>\n",
              "      <td>13.16</td>\n",
              "      <td>2.36</td>\n",
              "      <td>2.67</td>\n",
              "      <td>18.6</td>\n",
              "      <td>101</td>\n",
              "      <td>2.80</td>\n",
              "      <td>3.24</td>\n",
              "      <td>0.30</td>\n",
              "      <td>2.81</td>\n",
              "      <td>5.68</td>\n",
              "      <td>1.03</td>\n",
              "      <td>3.17</td>\n",
              "      <td>1185</td>\n",
              "    </tr>\n",
              "    <tr>\n",
              "      <th>3</th>\n",
              "      <td>1</td>\n",
              "      <td>14.37</td>\n",
              "      <td>1.95</td>\n",
              "      <td>2.50</td>\n",
              "      <td>16.8</td>\n",
              "      <td>113</td>\n",
              "      <td>3.85</td>\n",
              "      <td>3.49</td>\n",
              "      <td>0.24</td>\n",
              "      <td>2.18</td>\n",
              "      <td>7.80</td>\n",
              "      <td>0.86</td>\n",
              "      <td>3.45</td>\n",
              "      <td>1480</td>\n",
              "    </tr>\n",
              "    <tr>\n",
              "      <th>4</th>\n",
              "      <td>1</td>\n",
              "      <td>13.24</td>\n",
              "      <td>2.59</td>\n",
              "      <td>2.87</td>\n",
              "      <td>21.0</td>\n",
              "      <td>118</td>\n",
              "      <td>2.80</td>\n",
              "      <td>2.69</td>\n",
              "      <td>0.39</td>\n",
              "      <td>1.82</td>\n",
              "      <td>4.32</td>\n",
              "      <td>1.04</td>\n",
              "      <td>2.93</td>\n",
              "      <td>735</td>\n",
              "    </tr>\n",
              "  </tbody>\n",
              "</table>\n",
              "</div>"
            ],
            "text/plain": [
              "   class label  alchohol  malic acid  ...   hue  OD208  proline\n",
              "0            1     14.23        1.71  ...  1.04   3.92     1065\n",
              "1            1     13.20        1.78  ...  1.05   3.40     1050\n",
              "2            1     13.16        2.36  ...  1.03   3.17     1185\n",
              "3            1     14.37        1.95  ...  0.86   3.45     1480\n",
              "4            1     13.24        2.59  ...  1.04   2.93      735\n",
              "\n",
              "[5 rows x 14 columns]"
            ]
          },
          "metadata": {
            "tags": []
          },
          "execution_count": 9
        }
      ]
    },
    {
      "cell_type": "code",
      "metadata": {
        "id": "5UyhXM-t-57D"
      },
      "source": [
        "from sklearn.model_selection import train_test_split\n",
        "X, y=dat_wine.iloc[:,1:].values, dat_wine.iloc[:,0].values\n",
        "X_train, X_test, y_train, y_test=train_test_split(X, y, test_size=0.3, stratify=y)\n",
        "\n",
        "from sklearn.preprocessing import StandardScaler\n",
        "sc=StandardScaler()\n",
        "sc.fit(X_train)\n",
        "X_train_std=sc.transform(X_train)\n",
        "X_test_std=sc.transform(X_test)\n"
      ],
      "execution_count": 10,
      "outputs": []
    },
    {
      "cell_type": "code",
      "metadata": {
        "id": "93JAJWMe_V-s"
      },
      "source": [
        "# Logistic Regression with L2 or L1 Regularization\n",
        "from sklearn.linear_model import LogisticRegression\n",
        "lr2_10 = LogisticRegression(penalty='l2', C=10.0, solver='saga')  # L2 with C(=1/λ)=10\n",
        "lr2_1 = LogisticRegression(penalty='l2', C=1.0, solver='saga')    # L2 with C(=1/λ)=1\n",
        "lr2_0_1 = LogisticRegression(penalty='l2', C=0.1, solver='saga')  # L2 with C(=1/λ)=0.1\n",
        "\n",
        "lr1_10 = LogisticRegression(penalty='l1', C=10.0, solver='saga')  # L1 with C(=1/λ)=10\n",
        "lr1_1 = LogisticRegression(penalty='l1', C=1.0, solver='saga')    # L1 with C(=1/λ)=1\n",
        "lr1_0_1 = LogisticRegression(penalty='l1', C=0.1, solver='saga')  # L1 with C(=1/λ)=0.1"
      ],
      "execution_count": 11,
      "outputs": []
    },
    {
      "cell_type": "code",
      "metadata": {
        "colab": {
          "base_uri": "https://localhost:8080/"
        },
        "id": "9tfI34iVi4Mq",
        "outputId": "a13c9854-542a-4542-d6a0-dc3f9ddfdf89"
      },
      "source": [
        "# 규제화 방법(L2 or L1)과 규제강도(λ)를 바꿔가며 accuracy score 계산\n",
        "lr2_10.fit(X_train_std, y_train)\n",
        "print('Training accuracy with L2 and λ=0.1:', lr2_10.score(X_train_std, y_train))\n",
        "print('Test accuracy with L2 and λ=0.1:', lr2_10.score(X_test_std, y_test))\n",
        "\n",
        "lr2_1.fit(X_train_std, y_train)  # warning..\n",
        "print('Training accuracy with L2 and λ=1:', lr2_1.score(X_train_std, y_train))\n",
        "print('Test accuracy with L2 and λ=1:', lr2_1.score(X_test_std, y_test))\n",
        "\n",
        "lr2_0_1.fit(X_train_std, y_train)\n",
        "print('Training accuracy with L2 and λ=10:', lr2_0_1.score(X_train_std, y_train))\n",
        "print('Test accuracy with L2 and λ=10:', lr2_0_1.score(X_test_std, y_test))\n",
        "\n",
        "lr1_10.fit(X_train_std, y_train)\n",
        "print('Training accuracy with L1 and λ=0.1:', lr1_10.score(X_train_std, y_train))\n",
        "print('Test accuracy with L1 and λ=0.1:', lr1_10.score(X_test_std, y_test))\n",
        "\n",
        "lr1_1.fit(X_train_std, y_train)\n",
        "print('Training accuracy with L1 and λ=1:', lr1_1.score(X_train_std, y_train))\n",
        "print('Test accuracy with L1 and λ=1:', lr1_1.score(X_test_std, y_test))\n",
        "\n",
        "lr1_0_1.fit(X_train_std, y_train)\n",
        "print('Training accuracy with L1 and λ=10:', lr1_0_1.score(X_train_std, y_train))\n",
        "print('Test accuracy with L1 and λ=10:', lr1_0_1.score(X_test_std, y_test))"
      ],
      "execution_count": 12,
      "outputs": [
        {
          "output_type": "stream",
          "text": [
            "Training accuracy with L2 and λ=0.1: 1.0\n",
            "Test accuracy with L2 and λ=0.1: 0.9814814814814815\n",
            "Training accuracy with L2 and λ=1: 1.0\n",
            "Test accuracy with L2 and λ=1: 0.9814814814814815\n",
            "Training accuracy with L2 and λ=10: 0.9919354838709677\n",
            "Test accuracy with L2 and λ=10: 1.0\n",
            "Training accuracy with L1 and λ=0.1: 1.0\n",
            "Test accuracy with L1 and λ=0.1: 0.9814814814814815\n",
            "Training accuracy with L1 and λ=1: 1.0\n",
            "Test accuracy with L1 and λ=1: 1.0\n",
            "Training accuracy with L1 and λ=10: 0.9516129032258065\n",
            "Test accuracy with L1 and λ=10: 0.9629629629629629\n"
          ],
          "name": "stdout"
        },
        {
          "output_type": "stream",
          "text": [
            "/usr/local/lib/python3.7/dist-packages/sklearn/linear_model/_sag.py:330: ConvergenceWarning: The max_iter was reached which means the coef_ did not converge\n",
            "  \"the coef_ did not converge\", ConvergenceWarning)\n",
            "/usr/local/lib/python3.7/dist-packages/sklearn/linear_model/_sag.py:330: ConvergenceWarning: The max_iter was reached which means the coef_ did not converge\n",
            "  \"the coef_ did not converge\", ConvergenceWarning)\n",
            "/usr/local/lib/python3.7/dist-packages/sklearn/linear_model/_sag.py:330: ConvergenceWarning: The max_iter was reached which means the coef_ did not converge\n",
            "  \"the coef_ did not converge\", ConvergenceWarning)\n",
            "/usr/local/lib/python3.7/dist-packages/sklearn/linear_model/_sag.py:330: ConvergenceWarning: The max_iter was reached which means the coef_ did not converge\n",
            "  \"the coef_ did not converge\", ConvergenceWarning)\n"
          ],
          "name": "stderr"
        }
      ]
    }
  ]
}