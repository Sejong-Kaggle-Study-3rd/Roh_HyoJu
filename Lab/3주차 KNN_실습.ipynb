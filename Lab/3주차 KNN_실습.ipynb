{
  "nbformat": 4,
  "nbformat_minor": 0,
  "metadata": {
    "colab": {
      "name": "KNN 실습.ipynb",
      "provenance": []
    },
    "kernelspec": {
      "name": "python3",
      "display_name": "Python 3"
    },
    "language_info": {
      "name": "python"
    }
  },
  "cells": [
    {
      "cell_type": "code",
      "metadata": {
        "colab": {
          "base_uri": "https://localhost:8080/"
        },
        "id": "6qqCxW1oumIL",
        "outputId": "e14772af-0e7f-4cb8-8767-e0fe18732323"
      },
      "source": [
        "import seaborn as sns\n",
        "iris=sns.load_dataset('iris')\n",
        "print(iris.head())"
      ],
      "execution_count": 1,
      "outputs": [
        {
          "output_type": "stream",
          "text": [
            "   sepal_length  sepal_width  petal_length  petal_width species\n",
            "0           5.1          3.5           1.4          0.2  setosa\n",
            "1           4.9          3.0           1.4          0.2  setosa\n",
            "2           4.7          3.2           1.3          0.2  setosa\n",
            "3           4.6          3.1           1.5          0.2  setosa\n",
            "4           5.0          3.6           1.4          0.2  setosa\n"
          ],
          "name": "stdout"
        }
      ]
    },
    {
      "cell_type": "code",
      "metadata": {
        "colab": {
          "base_uri": "https://localhost:8080/"
        },
        "id": "JyuU3j0Cu416",
        "outputId": "fb1cb085-24f8-4cb7-c28d-badd5384de81"
      },
      "source": [
        "print(iris.shape)\n",
        "\n",
        "X=iris.drop('species',axis=1) #axis=1은 열단위, axis=0은 행단위\n",
        "print(X.shape)\n",
        "\n",
        "y=iris['species']"
      ],
      "execution_count": 2,
      "outputs": [
        {
          "output_type": "stream",
          "text": [
            "(150, 5)\n",
            "(150, 4)\n"
          ],
          "name": "stdout"
        }
      ]
    },
    {
      "cell_type": "markdown",
      "metadata": {
        "id": "tZ5zVxOavsW0"
      },
      "source": [
        "### 카테고리 실수화"
      ]
    },
    {
      "cell_type": "code",
      "metadata": {
        "colab": {
          "base_uri": "https://localhost:8080/"
        },
        "id": "yFUKv85DvWWc",
        "outputId": "8e219d37-d755-4f44-bb40-d4e1668f033c"
      },
      "source": [
        "from sklearn.preprocessing import LabelEncoder  #범주형 라벨\n",
        "import numpy as np\n",
        "\n",
        "classle=LabelEncoder()\n",
        "y=classle.fit_transform(iris['species'].values)\n",
        "print('species labels: ',np.unique(y))  #np.unique() 중복되는 값을 하나로 정리해주는 친구\n",
        "\n",
        "yo=classle.inverse_transform(y) # 다시 원래대로 문자열로 돌려놓는 친구\n",
        "print('species: ',np.unique(yo))"
      ],
      "execution_count": 3,
      "outputs": [
        {
          "output_type": "stream",
          "text": [
            "species labels:  [0 1 2]\n",
            "species:  ['setosa' 'versicolor' 'virginica']\n"
          ],
          "name": "stdout"
        }
      ]
    },
    {
      "cell_type": "markdown",
      "metadata": {
        "id": "CW_QDfQw0Uj8"
      },
      "source": [
        "### 데이터 분할"
      ]
    },
    {
      "cell_type": "code",
      "metadata": {
        "colab": {
          "base_uri": "https://localhost:8080/"
        },
        "id": "1k0m5hNewLui",
        "outputId": "650cbc5c-ce7c-4d3c-f8ae-dff9656d0241"
      },
      "source": [
        "from sklearn.model_selection import train_test_split\n",
        "X_train, X_test, y_train, y_test=train_test_split(X,y,test_size=0.3, random_state=1, stratify=y)  #stratify=y 짱 중요한 옵션\n",
        "\n",
        "print(X_train.shape)\n",
        "print(X_test.shape)\n",
        "print(y_train.shape)\n",
        "print(y_test.shape)"
      ],
      "execution_count": 4,
      "outputs": [
        {
          "output_type": "stream",
          "text": [
            "(105, 4)\n",
            "(45, 4)\n",
            "(105,)\n",
            "(45,)\n"
          ],
          "name": "stdout"
        }
      ]
    },
    {
      "cell_type": "markdown",
      "metadata": {
        "id": "SKmK1s0XR2jF"
      },
      "source": [
        "### (옵션) 입력데이터의 표준화"
      ]
    },
    {
      "cell_type": "code",
      "metadata": {
        "colab": {
          "base_uri": "https://localhost:8080/"
        },
        "id": "CjfBdMY4R68h",
        "outputId": "fc86e089-4985-42b0-abef-3616e25ef006"
      },
      "source": [
        "from sklearn.preprocessing import StandardScaler\n",
        "sc=StandardScaler()\n",
        "sc.fit(X_train)\n",
        "X_train_std=sc.transform(X_train)\n",
        "X_test_std=sc.transform(X_test)\n",
        "\n",
        "print(X_train.head())\n",
        "X_train_std[1:5,]"
      ],
      "execution_count": 5,
      "outputs": [
        {
          "output_type": "stream",
          "text": [
            "     sepal_length  sepal_width  petal_length  petal_width\n",
            "33            5.5          4.2           1.4          0.2\n",
            "20            5.4          3.4           1.7          0.2\n",
            "115           6.4          3.2           5.3          2.3\n",
            "124           6.7          3.3           5.7          2.1\n",
            "35            5.0          3.2           1.2          0.2\n"
          ],
          "name": "stdout"
        },
        {
          "output_type": "execute_result",
          "data": {
            "text/plain": [
              "array([[-0.55053619,  0.76918392, -1.16537974, -1.30728421],\n",
              "       [ 0.65376173,  0.30368356,  0.84243039,  1.44587881],\n",
              "       [ 1.0150511 ,  0.53643374,  1.0655204 ,  1.18367281],\n",
              "       [-1.03225536,  0.30368356, -1.44424226, -1.30728421]])"
            ]
          },
          "metadata": {
            "tags": []
          },
          "execution_count": 5
        }
      ]
    },
    {
      "cell_type": "markdown",
      "metadata": {
        "id": "pJDus8b92WTF"
      },
      "source": [
        "### 모형 추정 및 사례 중심 학습"
      ]
    },
    {
      "cell_type": "code",
      "metadata": {
        "colab": {
          "base_uri": "https://localhost:8080/"
        },
        "id": "m0E3ItS52V2X",
        "outputId": "5df9bd18-214f-4160-9552-5429d9dd7160"
      },
      "source": [
        "from sklearn.neighbors import KNeighborsClassifier\n",
        "knn=KNeighborsClassifier(n_neighbors=5, p=2)  #5개의 인접이웃, 거리측정: 유클리드(p=2)\n",
        "\n",
        "knn.fit(X_train,y_train)"
      ],
      "execution_count": 6,
      "outputs": [
        {
          "output_type": "execute_result",
          "data": {
            "text/plain": [
              "KNeighborsClassifier(algorithm='auto', leaf_size=30, metric='minkowski',\n",
              "                     metric_params=None, n_jobs=None, n_neighbors=5, p=2,\n",
              "                     weights='uniform')"
            ]
          },
          "metadata": {
            "tags": []
          },
          "execution_count": 6
        }
      ]
    },
    {
      "cell_type": "code",
      "metadata": {
        "colab": {
          "base_uri": "https://localhost:8080/"
        },
        "id": "OQw8tXTlSsxH",
        "outputId": "44a0ca20-2d5e-4a72-f2f2-5795b880f8a4"
      },
      "source": [
        "from sklearn.neighbors import KNeighborsClassifier\n",
        "knn2=KNeighborsClassifier(n_neighbors=5, p=2)  #5개의 인접이웃, 거리측정: 유클리드(p=2)\n",
        "\n",
        "knn2.fit(X_train_std,y_train)"
      ],
      "execution_count": 7,
      "outputs": [
        {
          "output_type": "execute_result",
          "data": {
            "text/plain": [
              "KNeighborsClassifier(algorithm='auto', leaf_size=30, metric='minkowski',\n",
              "                     metric_params=None, n_jobs=None, n_neighbors=5, p=2,\n",
              "                     weights='uniform')"
            ]
          },
          "metadata": {
            "tags": []
          },
          "execution_count": 7
        }
      ]
    },
    {
      "cell_type": "code",
      "metadata": {
        "colab": {
          "base_uri": "https://localhost:8080/"
        },
        "id": "XmwVGD0BMZMP",
        "outputId": "48a28cb3-147a-454c-93c1-386b568dfa65"
      },
      "source": [
        "y_train_pred=knn.predict(X_train)\n",
        "y_test_pred=knn.predict(X_test)\n",
        "\n",
        "print('Training Samples: %d' %(y_train!=y_train_pred).sum())\n",
        "print('Test Samples: %d'%(y_test!=y_test_pred).sum())"
      ],
      "execution_count": 8,
      "outputs": [
        {
          "output_type": "stream",
          "text": [
            "Training Samples: 2\n",
            "Test Samples: 1\n"
          ],
          "name": "stdout"
        }
      ]
    },
    {
      "cell_type": "code",
      "metadata": {
        "colab": {
          "base_uri": "https://localhost:8080/"
        },
        "id": "je1p-c_YSx7G",
        "outputId": "59fe2677-03dc-40cb-f881-ace7838a9ef2"
      },
      "source": [
        "y_train_pred_std=knn2.predict(X_train_std)\n",
        "y_test_pred_std=knn2.predict(X_test_std)\n",
        "\n",
        "print('Training Samples: %d' %(y_train!=y_train_pred_std).sum())\n",
        "print('Test Samples: %d'%(y_test!=y_test_pred_std).sum())"
      ],
      "execution_count": 9,
      "outputs": [
        {
          "output_type": "stream",
          "text": [
            "Training Samples: 4\n",
            "Test Samples: 3\n"
          ],
          "name": "stdout"
        }
      ]
    },
    {
      "cell_type": "code",
      "metadata": {
        "colab": {
          "base_uri": "https://localhost:8080/"
        },
        "id": "uSxpA1kAOJzu",
        "outputId": "980c039c-5fe6-4427-974b-2fa87df8e1b1"
      },
      "source": [
        "y_test_pred"
      ],
      "execution_count": 10,
      "outputs": [
        {
          "output_type": "execute_result",
          "data": {
            "text/plain": [
              "array([2, 0, 0, 1, 1, 1, 2, 1, 2, 0, 0, 2, 0, 1, 0, 1, 2, 1, 1, 2, 2, 0,\n",
              "       1, 2, 1, 1, 1, 2, 0, 2, 0, 0, 1, 1, 2, 2, 0, 0, 0, 1, 2, 2, 1, 0,\n",
              "       0])"
            ]
          },
          "metadata": {
            "tags": []
          },
          "execution_count": 10
        }
      ]
    },
    {
      "cell_type": "markdown",
      "metadata": {
        "id": "aG4qRMkuPJZY"
      },
      "source": [
        "정확도 측정 방법"
      ]
    },
    {
      "cell_type": "code",
      "metadata": {
        "colab": {
          "base_uri": "https://localhost:8080/"
        },
        "id": "Xah2TeISNEYX",
        "outputId": "96880291-549e-4adb-9ddc-59ee7171e305"
      },
      "source": [
        "#accuracy\n",
        "from sklearn.metrics import accuracy_score\n",
        "print(accuracy_score(y_test,y_test_pred))"
      ],
      "execution_count": 11,
      "outputs": [
        {
          "output_type": "stream",
          "text": [
            "0.9777777777777777\n"
          ],
          "name": "stdout"
        }
      ]
    },
    {
      "cell_type": "code",
      "metadata": {
        "colab": {
          "base_uri": "https://localhost:8080/"
        },
        "id": "yoTmCN-6TC_I",
        "outputId": "40e6d67f-de6a-4019-871b-3acbb0d1e114"
      },
      "source": [
        "from sklearn.metrics import accuracy_score\n",
        "print(accuracy_score(y_test,y_test_pred_std)) #표준화시 성능 저하됨"
      ],
      "execution_count": 12,
      "outputs": [
        {
          "output_type": "stream",
          "text": [
            "0.9333333333333333\n"
          ],
          "name": "stdout"
        }
      ]
    },
    {
      "cell_type": "code",
      "metadata": {
        "colab": {
          "base_uri": "https://localhost:8080/"
        },
        "id": "SzRdctk1PM1-",
        "outputId": "7cd990df-12ee-476b-a621-b564b974d128"
      },
      "source": [
        "#confusion matrix\n",
        "from sklearn.metrics import confusion_matrix\n",
        "conf=confusion_matrix(y_true=y_test, y_pred=y_test_pred)\n",
        "print(conf)"
      ],
      "execution_count": 13,
      "outputs": [
        {
          "output_type": "stream",
          "text": [
            "[[15  0  0]\n",
            " [ 0 15  0]\n",
            " [ 0  1 14]]\n"
          ],
          "name": "stdout"
        }
      ]
    },
    {
      "cell_type": "markdown",
      "metadata": {
        "id": "W5SxI9zlcsPM"
      },
      "source": [
        "## KNN 회귀"
      ]
    },
    {
      "cell_type": "code",
      "metadata": {
        "colab": {
          "base_uri": "https://localhost:8080/"
        },
        "id": "pWiqIAlScudn",
        "outputId": "171f3636-3643-414e-c3d3-3cf61f7033d5"
      },
      "source": [
        "from sklearn.neighbors import KNeighborsRegressor\n",
        "\n",
        "regressor=KNeighborsRegressor(n_neighbors=3, weights='distance')  #distance는 가중 평균, defalut=uniform(단순평균)\n",
        "regressor_uni=KNeighborsRegressor(n_neighbors=3)\n",
        "\n",
        "training_points=[\n",
        "  [0.5,0.2,0.1],\n",
        "  [0.9,0.7,0.3],\n",
        "  [0.4,0.5,0.7]\n",
        "]\n",
        "\n",
        "training_labels=[5.0,6.8,9.0]\n",
        "regressor.fit(training_points, training_labels)\n",
        "regressor_uni.fit(training_points, training_labels)\n",
        "\n",
        "unknown_points=[\n",
        "  [0.2,0.1,0.7],\n",
        "  [0.4,0.7,0.6],\n",
        "  [0.5,0.8,0.1]\n",
        "]\n",
        "\n",
        "guesses=regressor.predict(unknown_points)\n",
        "guesses_uni=regressor_uni.predict(unknown_points)\n",
        "\n",
        "#데이터가 적어서 세개의 단순회귀 결과가 똑같은듯..?\n",
        "print('가중회귀: ',guesses)\n",
        "print('단순회귀: ',guesses_uni)"
      ],
      "execution_count": 18,
      "outputs": [
        {
          "output_type": "stream",
          "text": [
            "가중회귀:  [7.28143288 7.76451922 6.8457845 ]\n",
            "단순회귀:  [6.93333333 6.93333333 6.93333333]\n"
          ],
          "name": "stdout"
        }
      ]
    }
  ]
}